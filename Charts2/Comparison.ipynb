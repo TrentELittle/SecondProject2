{
 "cells": [
  {
   "cell_type": "code",
   "execution_count": 9,
   "metadata": {},
   "outputs": [],
   "source": [
    "import os\n",
    "import pandas as pd\n",
    "import requests\n",
    "import json\n",
    "import pprint\n",
    "import numpy as np\n",
    "import matplotlib\n",
    "\n",
    "import matplotlib.pyplot as plt"
   ]
  },
  {
   "cell_type": "code",
   "execution_count": 10,
   "metadata": {},
   "outputs": [
    {
     "data": {
      "text/html": [
       "<div>\n",
       "<style scoped>\n",
       "    .dataframe tbody tr th:only-of-type {\n",
       "        vertical-align: middle;\n",
       "    }\n",
       "\n",
       "    .dataframe tbody tr th {\n",
       "        vertical-align: top;\n",
       "    }\n",
       "\n",
       "    .dataframe thead th {\n",
       "        text-align: right;\n",
       "    }\n",
       "</style>\n",
       "<table border=\"1\" class=\"dataframe\">\n",
       "  <thead>\n",
       "    <tr style=\"text-align: right;\">\n",
       "      <th></th>\n",
       "      <th>ISO3</th>\n",
       "      <th>Name</th>\n",
       "      <th>Year</th>\n",
       "      <th>Disaster New Displacements</th>\n",
       "      <th>Conflict Stock Displacement</th>\n",
       "      <th>Conflict New Displacements</th>\n",
       "    </tr>\n",
       "  </thead>\n",
       "  <tbody>\n",
       "    <tr>\n",
       "      <th>0</th>\n",
       "      <td>TCD</td>\n",
       "      <td>Chad</td>\n",
       "      <td>2009</td>\n",
       "      <td>5800.0</td>\n",
       "      <td>168000.0</td>\n",
       "      <td>NaN</td>\n",
       "    </tr>\n",
       "    <tr>\n",
       "      <th>1</th>\n",
       "      <td>ETH</td>\n",
       "      <td>Ethiopia</td>\n",
       "      <td>2009</td>\n",
       "      <td>NaN</td>\n",
       "      <td>350000.0</td>\n",
       "      <td>200000.0</td>\n",
       "    </tr>\n",
       "    <tr>\n",
       "      <th>2</th>\n",
       "      <td>MWI</td>\n",
       "      <td>Malawi</td>\n",
       "      <td>2009</td>\n",
       "      <td>21000.0</td>\n",
       "      <td>NaN</td>\n",
       "      <td>NaN</td>\n",
       "    </tr>\n",
       "    <tr>\n",
       "      <th>3</th>\n",
       "      <td>MOZ</td>\n",
       "      <td>Mozambique</td>\n",
       "      <td>2009</td>\n",
       "      <td>7300.0</td>\n",
       "      <td>NaN</td>\n",
       "      <td>NaN</td>\n",
       "    </tr>\n",
       "    <tr>\n",
       "      <th>4</th>\n",
       "      <td>NER</td>\n",
       "      <td>Niger</td>\n",
       "      <td>2009</td>\n",
       "      <td>5600.0</td>\n",
       "      <td>11000.0</td>\n",
       "      <td>NaN</td>\n",
       "    </tr>\n",
       "  </tbody>\n",
       "</table>\n",
       "</div>"
      ],
      "text/plain": [
       "  ISO3        Name  Year  Disaster New Displacements  \\\n",
       "0  TCD        Chad  2009                      5800.0   \n",
       "1  ETH    Ethiopia  2009                         NaN   \n",
       "2  MWI      Malawi  2009                     21000.0   \n",
       "3  MOZ  Mozambique  2009                      7300.0   \n",
       "4  NER       Niger  2009                      5600.0   \n",
       "\n",
       "   Conflict Stock Displacement  Conflict New Displacements  \n",
       "0                     168000.0                         NaN  \n",
       "1                     350000.0                    200000.0  \n",
       "2                          NaN                         NaN  \n",
       "3                          NaN                         NaN  \n",
       "4                      11000.0                         NaN  "
      ]
     },
     "execution_count": 10,
     "metadata": {},
     "output_type": "execute_result"
    }
   ],
   "source": [
    "csv_path = \"Resources/New_Disaster.csv\"\n",
    "\n",
    "New_df = pd.read_csv(csv_path)\n",
    "\n",
    "New_df.head()"
   ]
  },
  {
   "cell_type": "code",
   "execution_count": 13,
   "metadata": {},
   "outputs": [
    {
     "data": {
      "text/html": [
       "<div>\n",
       "<style scoped>\n",
       "    .dataframe tbody tr th:only-of-type {\n",
       "        vertical-align: middle;\n",
       "    }\n",
       "\n",
       "    .dataframe tbody tr th {\n",
       "        vertical-align: top;\n",
       "    }\n",
       "\n",
       "    .dataframe thead th {\n",
       "        text-align: right;\n",
       "    }\n",
       "</style>\n",
       "<table border=\"1\" class=\"dataframe\">\n",
       "  <thead>\n",
       "    <tr style=\"text-align: right;\">\n",
       "      <th></th>\n",
       "      <th>ISO3</th>\n",
       "      <th>Name</th>\n",
       "      <th>Disaster New Displacements</th>\n",
       "      <th>Conflict Stock Displacement</th>\n",
       "      <th>Conflict New Displacements</th>\n",
       "    </tr>\n",
       "    <tr>\n",
       "      <th>Year</th>\n",
       "      <th></th>\n",
       "      <th></th>\n",
       "      <th></th>\n",
       "      <th></th>\n",
       "      <th></th>\n",
       "    </tr>\n",
       "  </thead>\n",
       "  <tbody>\n",
       "    <tr>\n",
       "      <th>2009</th>\n",
       "      <td>40</td>\n",
       "      <td>40</td>\n",
       "      <td>24</td>\n",
       "      <td>17</td>\n",
       "      <td>10</td>\n",
       "    </tr>\n",
       "    <tr>\n",
       "      <th>2010</th>\n",
       "      <td>40</td>\n",
       "      <td>40</td>\n",
       "      <td>28</td>\n",
       "      <td>17</td>\n",
       "      <td>8</td>\n",
       "    </tr>\n",
       "    <tr>\n",
       "      <th>2011</th>\n",
       "      <td>38</td>\n",
       "      <td>38</td>\n",
       "      <td>19</td>\n",
       "      <td>19</td>\n",
       "      <td>11</td>\n",
       "    </tr>\n",
       "    <tr>\n",
       "      <th>2012</th>\n",
       "      <td>36</td>\n",
       "      <td>36</td>\n",
       "      <td>26</td>\n",
       "      <td>20</td>\n",
       "      <td>12</td>\n",
       "    </tr>\n",
       "    <tr>\n",
       "      <th>2013</th>\n",
       "      <td>42</td>\n",
       "      <td>42</td>\n",
       "      <td>39</td>\n",
       "      <td>21</td>\n",
       "      <td>12</td>\n",
       "    </tr>\n",
       "  </tbody>\n",
       "</table>\n",
       "</div>"
      ],
      "text/plain": [
       "      ISO3  Name  Disaster New Displacements  Conflict Stock Displacement  \\\n",
       "Year                                                                        \n",
       "2009    40    40                          24                           17   \n",
       "2010    40    40                          28                           17   \n",
       "2011    38    38                          19                           19   \n",
       "2012    36    36                          26                           20   \n",
       "2013    42    42                          39                           21   \n",
       "\n",
       "      Conflict New Displacements  \n",
       "Year                              \n",
       "2009                          10  \n",
       "2010                           8  \n",
       "2011                          11  \n",
       "2012                          12  \n",
       "2013                          12  "
      ]
     },
     "execution_count": 13,
     "metadata": {},
     "output_type": "execute_result"
    }
   ],
   "source": [
    "grouped_year_df = New_df.groupby(['Year'])\n",
    "\n",
    "grouped_year_df.count().head()\n"
   ]
  },
  {
   "cell_type": "code",
   "execution_count": 15,
   "metadata": {},
   "outputs": [
    {
     "data": {
      "text/plain": [
       "Year\n",
       "2009    2316500.0\n",
       "2010    1401700.0\n",
       "2011    2593000.0\n",
       "2012    2545450.0\n",
       "2013    3756000.0\n",
       "2014    4964500.0\n",
       "2015    4512200.0\n",
       "2016    3263800.0\n",
       "2017    5660320.0\n",
       "2018    7768800.0\n",
       "2019    5211702.0\n",
       "Name: Conflict New Displacements, dtype: float64"
      ]
     },
     "execution_count": 15,
     "metadata": {},
     "output_type": "execute_result"
    }
   ],
   "source": [
    "conflict_total = grouped_year_df['Conflict New Displacements'].sum()\n",
    "conflict_total"
   ]
  },
  {
   "cell_type": "code",
   "execution_count": 16,
   "metadata": {},
   "outputs": [
    {
     "data": {
      "text/plain": [
       "Year\n",
       "2009    1121100.0\n",
       "2010    1706350.0\n",
       "2011     603100.0\n",
       "2012    5930300.0\n",
       "2013    1609038.0\n",
       "2014     646257.0\n",
       "2015    1210287.0\n",
       "2016    1122470.0\n",
       "2017    2559761.0\n",
       "2018    2631805.0\n",
       "2019    3425640.0\n",
       "Name: Disaster New Displacements, dtype: float64"
      ]
     },
     "execution_count": 16,
     "metadata": {},
     "output_type": "execute_result"
    }
   ],
   "source": [
    "disaster_total = grouped_year_df['Disaster New Displacements'].sum()\n",
    "disaster_total"
   ]
  },
  {
   "cell_type": "code",
   "execution_count": 19,
   "metadata": {},
   "outputs": [
    {
     "data": {
      "text/html": [
       "<div>\n",
       "<style scoped>\n",
       "    .dataframe tbody tr th:only-of-type {\n",
       "        vertical-align: middle;\n",
       "    }\n",
       "\n",
       "    .dataframe tbody tr th {\n",
       "        vertical-align: top;\n",
       "    }\n",
       "\n",
       "    .dataframe thead th {\n",
       "        text-align: right;\n",
       "    }\n",
       "</style>\n",
       "<table border=\"1\" class=\"dataframe\">\n",
       "  <thead>\n",
       "    <tr style=\"text-align: right;\">\n",
       "      <th></th>\n",
       "      <th>New Conflict Displacements</th>\n",
       "      <th>New Disaster Displacements</th>\n",
       "    </tr>\n",
       "    <tr>\n",
       "      <th>Year</th>\n",
       "      <th></th>\n",
       "      <th></th>\n",
       "    </tr>\n",
       "  </thead>\n",
       "  <tbody>\n",
       "    <tr>\n",
       "      <th>2009</th>\n",
       "      <td>2316500.0</td>\n",
       "      <td>1121100.0</td>\n",
       "    </tr>\n",
       "    <tr>\n",
       "      <th>2010</th>\n",
       "      <td>1401700.0</td>\n",
       "      <td>1706350.0</td>\n",
       "    </tr>\n",
       "    <tr>\n",
       "      <th>2011</th>\n",
       "      <td>2593000.0</td>\n",
       "      <td>603100.0</td>\n",
       "    </tr>\n",
       "    <tr>\n",
       "      <th>2012</th>\n",
       "      <td>2545450.0</td>\n",
       "      <td>5930300.0</td>\n",
       "    </tr>\n",
       "    <tr>\n",
       "      <th>2013</th>\n",
       "      <td>3756000.0</td>\n",
       "      <td>1609038.0</td>\n",
       "    </tr>\n",
       "  </tbody>\n",
       "</table>\n",
       "</div>"
      ],
      "text/plain": [
       "      New Conflict Displacements  New Disaster Displacements\n",
       "Year                                                        \n",
       "2009                   2316500.0                   1121100.0\n",
       "2010                   1401700.0                   1706350.0\n",
       "2011                   2593000.0                    603100.0\n",
       "2012                   2545450.0                   5930300.0\n",
       "2013                   3756000.0                   1609038.0"
      ]
     },
     "execution_count": 19,
     "metadata": {},
     "output_type": "execute_result"
    }
   ],
   "source": [
    "summary_df = pd.DataFrame({\"New Conflict Displacements\": conflict_total,\n",
    "                                    \"New Disaster Displacements\": disaster_total})\n",
    "summary_df.head()"
   ]
  },
  {
   "cell_type": "code",
   "execution_count": 20,
   "metadata": {},
   "outputs": [
    {
     "data": {
      "image/png": "[encoded data removed]",
      "text/plain": [
       "<Figure size 432x288 with 1 Axes>"
      ]
     },
     "metadata": {
      "needs_background": "light"
     },
     "output_type": "display_data"
    }
   ],
   "source": [
    "n_groups = 11\n",
    "year = [\"2009\", \"2010\", \"2011\", \"2012\", \"2013\", \"2014\", \"2015\", \"2016\", \"2017\", \"2018\", \"2019\"]\n",
    "disasters = summary_df[\"New Disaster Displacements\"]\n",
    "conflicts = summary_df[\"New Conflict Displacements\"]\n",
    " \n",
    "# create plot\n",
    "fig, ax = plt.subplots()\n",
    "index = np.arange(n_groups)\n",
    "bar_width = 0.35\n",
    "opacity = 0.8\n",
    " \n",
    "rects1 = plt.bar(index, disasters, bar_width,\n",
    "alpha=opacity,\n",
    "color='b',\n",
    "label='New Disaster Displacements')\n",
    " \n",
    "rects2 = plt.bar(index + bar_width, conflicts, bar_width,\n",
    "alpha=opacity,\n",
    "color='r',\n",
    "label='New Conflict Displacements')\n",
    " \n",
    "plt.xlabel('Year')\n",
    "plt.ylabel('New Diplacements')\n",
    "plt.title('Disaster & Confict Displacements')\n",
    "plt.xticks(index + bar_width, ('2009', '2010', '2011', '2012', '2013', '2014', '2015', '2016', '2017', \n",
    "                               '2018', '2019'), rotation=90)\n",
    "plt.legend()\n",
    " \n",
    "plt.tight_layout()\n",
    "plt.show()\n",
    "fig.savefig('plot.png')"
   ]
  },
  {
   "cell_type": "code",
   "execution_count": 24,
   "metadata": {},
   "outputs": [
    {
     "data": {
      "text/plain": [
       "43993972.0"
      ]
     },
     "execution_count": 24,
     "metadata": {},
     "output_type": "execute_result"
    }
   ],
   "source": [
    "# displace_total = grouped_year_df.groupby([\"Sex\"])['Mouse ID'].count().reset_index()\n",
    "# Gender_total = Gender_total.rename(columns={\"Mouse ID\": \"Total\"})\n",
    "# Gender_total\n",
    "\n",
    "conflictSUM = conflict_total.sum()\n",
    "conflictSUM"
   ]
  },
  {
   "cell_type": "code",
   "execution_count": 25,
   "metadata": {},
   "outputs": [
    {
     "data": {
      "text/plain": [
       "22566108.0"
      ]
     },
     "execution_count": 25,
     "metadata": {},
     "output_type": "execute_result"
    }
   ],
   "source": [
    "disasterSUM = disaster_total.sum()\n",
    "disasterSUM"
   ]
  },
  {
   "cell_type": "code",
   "execution_count": 26,
   "metadata": {},
   "outputs": [],
   "source": [
    "types = [\"Conflict\", \"Disaster\"]\n",
    "totals = [43993972, 22566108]\n",
    "colors = [\"red\", \"blue\"]\n",
    "explode = (0.0, 0.0)"
   ]
  },
  {
   "cell_type": "code",
   "execution_count": 28,
   "metadata": {},
   "outputs": [
    {
     "data": {
      "image/png": "[encoded data removed]",
      "text/plain": [
       "<Figure size 432x288 with 1 Axes>"
      ]
     },
     "metadata": {},
     "output_type": "display_data"
    }
   ],
   "source": [
    "plt.pie(totals, explode=explode, labels=types, colors=colors,\n",
    "        autopct=\"%1.1f%%\", shadow=False, startangle=0)\n",
    "plt.axis(\"equal\")\n",
    "plt.title (\"Percentage of Conflict vs Disaster Caused Displacement\")\n",
    "plt.show()"
   ]
  },
  {
   "cell_type": "code",
   "execution_count": null,
   "metadata": {},
   "outputs": [],
   "source": []
  }
 ],
 "metadata": {
  "kernelspec": {
   "display_name": "Python 3",
   "language": "python",
   "name": "python3"
  },
  "language_info": {
   "codemirror_mode": {
    "name": "ipython",
    "version": 3
   },
   "file_extension": ".py",
   "mimetype": "text/x-python",
   "name": "python",
   "nbconvert_exporter": "python",
   "pygments_lexer": "ipython3",
   "version": "3.7.6"
  }
 },
 "nbformat": 4,
 "nbformat_minor": 4
}
